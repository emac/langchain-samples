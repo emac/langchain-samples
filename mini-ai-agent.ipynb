{
 "cells": [
  {
   "cell_type": "code",
   "execution_count": 1,
   "id": "39dcc573",
   "metadata": {
    "scrolled": false
   },
   "outputs": [
    {
     "name": "stdout",
     "output_type": "stream",
     "text": [
      "Requirement already satisfied: langchain in /Users/emac/opt/anaconda3/lib/python3.9/site-packages (0.1.16)\n",
      "Requirement already satisfied: langchain-community in /Users/emac/opt/anaconda3/lib/python3.9/site-packages (0.0.34)\n",
      "Requirement already satisfied: langchain-core in /Users/emac/opt/anaconda3/lib/python3.9/site-packages (0.1.46)\n",
      "Requirement already satisfied: gradio in /Users/emac/opt/anaconda3/lib/python3.9/site-packages (4.28.3)\n",
      "Requirement already satisfied: PyYAML>=5.3 in /Users/emac/opt/anaconda3/lib/python3.9/site-packages (from langchain) (6.0.1)\n",
      "Requirement already satisfied: SQLAlchemy<3,>=1.4 in /Users/emac/opt/anaconda3/lib/python3.9/site-packages (from langchain) (2.0.25)\n",
      "Requirement already satisfied: aiohttp<4.0.0,>=3.8.3 in /Users/emac/opt/anaconda3/lib/python3.9/site-packages (from langchain) (3.8.4)\n",
      "Requirement already satisfied: async-timeout<5.0.0,>=4.0.0 in /Users/emac/opt/anaconda3/lib/python3.9/site-packages (from langchain) (4.0.2)\n",
      "Requirement already satisfied: dataclasses-json<0.7,>=0.5.7 in /Users/emac/opt/anaconda3/lib/python3.9/site-packages (from langchain) (0.6.4)\n",
      "Requirement already satisfied: jsonpatch<2.0,>=1.33 in /Users/emac/opt/anaconda3/lib/python3.9/site-packages (from langchain) (1.33)\n",
      "Requirement already satisfied: langchain-text-splitters<0.1,>=0.0.1 in /Users/emac/opt/anaconda3/lib/python3.9/site-packages (from langchain) (0.0.1)\n",
      "Requirement already satisfied: langsmith<0.2.0,>=0.1.17 in /Users/emac/opt/anaconda3/lib/python3.9/site-packages (from langchain) (0.1.51)\n",
      "Requirement already satisfied: numpy<2,>=1 in /Users/emac/opt/anaconda3/lib/python3.9/site-packages (from langchain) (1.26.4)\n",
      "Requirement already satisfied: pydantic<3,>=1 in /Users/emac/opt/anaconda3/lib/python3.9/site-packages (from langchain) (2.7.1)\n",
      "Requirement already satisfied: requests<3,>=2 in /Users/emac/opt/anaconda3/lib/python3.9/site-packages (from langchain) (2.31.0)\n",
      "Requirement already satisfied: tenacity<9.0.0,>=8.1.0 in /Users/emac/opt/anaconda3/lib/python3.9/site-packages (from langchain) (8.2.3)\n",
      "Requirement already satisfied: packaging<24.0,>=23.2 in /Users/emac/opt/anaconda3/lib/python3.9/site-packages (from langchain-core) (23.2)\n",
      "Requirement already satisfied: aiofiles<24.0,>=22.0 in /Users/emac/opt/anaconda3/lib/python3.9/site-packages (from gradio) (23.2.1)\n",
      "Requirement already satisfied: altair<6.0,>=4.2.0 in /Users/emac/opt/anaconda3/lib/python3.9/site-packages (from gradio) (5.3.0)\n",
      "Requirement already satisfied: fastapi in /Users/emac/opt/anaconda3/lib/python3.9/site-packages (from gradio) (0.110.2)\n",
      "Requirement already satisfied: ffmpy in /Users/emac/opt/anaconda3/lib/python3.9/site-packages (from gradio) (0.3.2)\n",
      "Requirement already satisfied: gradio-client==0.16.0 in /Users/emac/opt/anaconda3/lib/python3.9/site-packages (from gradio) (0.16.0)\n",
      "Requirement already satisfied: httpx>=0.24.1 in /Users/emac/opt/anaconda3/lib/python3.9/site-packages (from gradio) (0.27.0)\n",
      "Requirement already satisfied: huggingface-hub>=0.19.3 in /Users/emac/opt/anaconda3/lib/python3.9/site-packages (from gradio) (0.22.2)\n",
      "Requirement already satisfied: importlib-resources<7.0,>=1.3 in /Users/emac/opt/anaconda3/lib/python3.9/site-packages (from gradio) (6.1.1)\n",
      "Requirement already satisfied: jinja2<4.0 in /Users/emac/opt/anaconda3/lib/python3.9/site-packages (from gradio) (2.11.3)\n",
      "Requirement already satisfied: markupsafe~=2.0 in /Users/emac/opt/anaconda3/lib/python3.9/site-packages (from gradio) (2.0.1)\n",
      "Requirement already satisfied: matplotlib~=3.0 in /Users/emac/opt/anaconda3/lib/python3.9/site-packages (from gradio) (3.8.4)\n",
      "Requirement already satisfied: orjson~=3.0 in /Users/emac/opt/anaconda3/lib/python3.9/site-packages (from gradio) (3.10.1)\n",
      "Requirement already satisfied: pandas<3.0,>=1.0 in /Users/emac/opt/anaconda3/lib/python3.9/site-packages (from gradio) (1.4.4)\n",
      "Requirement already satisfied: pillow<11.0,>=8.0 in /Users/emac/opt/anaconda3/lib/python3.9/site-packages (from gradio) (10.2.0)\n",
      "Requirement already satisfied: pydub in /Users/emac/opt/anaconda3/lib/python3.9/site-packages (from gradio) (0.25.1)\n",
      "Requirement already satisfied: python-multipart>=0.0.9 in /Users/emac/opt/anaconda3/lib/python3.9/site-packages (from gradio) (0.0.9)\n",
      "Requirement already satisfied: ruff>=0.2.2 in /Users/emac/opt/anaconda3/lib/python3.9/site-packages (from gradio) (0.4.2)\n",
      "Requirement already satisfied: semantic-version~=2.0 in /Users/emac/opt/anaconda3/lib/python3.9/site-packages (from gradio) (2.10.0)\n",
      "Requirement already satisfied: tomlkit==0.12.0 in /Users/emac/opt/anaconda3/lib/python3.9/site-packages (from gradio) (0.12.0)\n",
      "Requirement already satisfied: typer<1.0,>=0.12 in /Users/emac/opt/anaconda3/lib/python3.9/site-packages (from gradio) (0.12.3)\n",
      "Requirement already satisfied: typing-extensions~=4.0 in /Users/emac/opt/anaconda3/lib/python3.9/site-packages (from gradio) (4.11.0)\n",
      "Requirement already satisfied: urllib3~=2.0 in /Users/emac/opt/anaconda3/lib/python3.9/site-packages (from gradio) (2.1.0)\n",
      "Requirement already satisfied: uvicorn>=0.14.0 in /Users/emac/opt/anaconda3/lib/python3.9/site-packages (from gradio) (0.29.0)\n",
      "Requirement already satisfied: fsspec in /Users/emac/opt/anaconda3/lib/python3.9/site-packages (from gradio-client==0.16.0->gradio) (2023.10.0)\n",
      "Requirement already satisfied: websockets<12.0,>=10.0 in /Users/emac/opt/anaconda3/lib/python3.9/site-packages (from gradio-client==0.16.0->gradio) (11.0.3)\n",
      "Requirement already satisfied: attrs>=17.3.0 in /Users/emac/opt/anaconda3/lib/python3.9/site-packages (from aiohttp<4.0.0,>=3.8.3->langchain) (23.1.0)\n",
      "Requirement already satisfied: charset-normalizer<4.0,>=2.0 in /Users/emac/opt/anaconda3/lib/python3.9/site-packages (from aiohttp<4.0.0,>=3.8.3->langchain) (2.0.4)\n",
      "Requirement already satisfied: multidict<7.0,>=4.5 in /Users/emac/opt/anaconda3/lib/python3.9/site-packages (from aiohttp<4.0.0,>=3.8.3->langchain) (6.0.4)\n",
      "Requirement already satisfied: yarl<2.0,>=1.0 in /Users/emac/opt/anaconda3/lib/python3.9/site-packages (from aiohttp<4.0.0,>=3.8.3->langchain) (1.9.2)\n",
      "Requirement already satisfied: frozenlist>=1.1.1 in /Users/emac/opt/anaconda3/lib/python3.9/site-packages (from aiohttp<4.0.0,>=3.8.3->langchain) (1.3.3)\n",
      "Requirement already satisfied: aiosignal>=1.1.2 in /Users/emac/opt/anaconda3/lib/python3.9/site-packages (from aiohttp<4.0.0,>=3.8.3->langchain) (1.3.1)\n",
      "Requirement already satisfied: jsonschema>=3.0 in /Users/emac/opt/anaconda3/lib/python3.9/site-packages (from altair<6.0,>=4.2.0->gradio) (4.19.2)\n",
      "Requirement already satisfied: toolz in /Users/emac/opt/anaconda3/lib/python3.9/site-packages (from altair<6.0,>=4.2.0->gradio) (0.12.0)\n",
      "Requirement already satisfied: marshmallow<4.0.0,>=3.18.0 in /Users/emac/opt/anaconda3/lib/python3.9/site-packages (from dataclasses-json<0.7,>=0.5.7->langchain) (3.21.1)\n",
      "Requirement already satisfied: typing-inspect<1,>=0.4.0 in /Users/emac/opt/anaconda3/lib/python3.9/site-packages (from dataclasses-json<0.7,>=0.5.7->langchain) (0.9.0)\n",
      "Requirement already satisfied: anyio in /Users/emac/opt/anaconda3/lib/python3.9/site-packages (from httpx>=0.24.1->gradio) (3.5.0)\n",
      "Requirement already satisfied: certifi in /Users/emac/opt/anaconda3/lib/python3.9/site-packages (from httpx>=0.24.1->gradio) (2024.2.2)\n",
      "Requirement already satisfied: httpcore==1.* in /Users/emac/opt/anaconda3/lib/python3.9/site-packages (from httpx>=0.24.1->gradio) (1.0.5)\n",
      "Requirement already satisfied: idna in /Users/emac/opt/anaconda3/lib/python3.9/site-packages (from httpx>=0.24.1->gradio) (3.4)\n",
      "Requirement already satisfied: sniffio in /Users/emac/opt/anaconda3/lib/python3.9/site-packages (from httpx>=0.24.1->gradio) (1.3.0)\n",
      "Requirement already satisfied: h11<0.15,>=0.13 in /Users/emac/opt/anaconda3/lib/python3.9/site-packages (from httpcore==1.*->httpx>=0.24.1->gradio) (0.14.0)\n",
      "Requirement already satisfied: filelock in /Users/emac/opt/anaconda3/lib/python3.9/site-packages (from huggingface-hub>=0.19.3->gradio) (3.13.1)\n",
      "Requirement already satisfied: tqdm>=4.42.1 in /Users/emac/opt/anaconda3/lib/python3.9/site-packages (from huggingface-hub>=0.19.3->gradio) (4.65.0)\n",
      "Requirement already satisfied: zipp>=3.1.0 in /Users/emac/opt/anaconda3/lib/python3.9/site-packages (from importlib-resources<7.0,>=1.3->gradio) (3.17.0)\n",
      "Requirement already satisfied: jsonpointer>=1.9 in /Users/emac/opt/anaconda3/lib/python3.9/site-packages (from jsonpatch<2.0,>=1.33->langchain) (2.1)\n"
     ]
    },
    {
     "name": "stdout",
     "output_type": "stream",
     "text": [
      "Requirement already satisfied: contourpy>=1.0.1 in /Users/emac/opt/anaconda3/lib/python3.9/site-packages (from matplotlib~=3.0->gradio) (1.0.7)\n",
      "Requirement already satisfied: cycler>=0.10 in /Users/emac/opt/anaconda3/lib/python3.9/site-packages (from matplotlib~=3.0->gradio) (0.11.0)\n",
      "Requirement already satisfied: fonttools>=4.22.0 in /Users/emac/opt/anaconda3/lib/python3.9/site-packages (from matplotlib~=3.0->gradio) (4.51.0)\n",
      "Requirement already satisfied: kiwisolver>=1.3.1 in /Users/emac/opt/anaconda3/lib/python3.9/site-packages (from matplotlib~=3.0->gradio) (1.4.4)\n",
      "Requirement already satisfied: pyparsing>=2.3.1 in /Users/emac/opt/anaconda3/lib/python3.9/site-packages (from matplotlib~=3.0->gradio) (3.0.9)\n",
      "Requirement already satisfied: python-dateutil>=2.7 in /Users/emac/opt/anaconda3/lib/python3.9/site-packages (from matplotlib~=3.0->gradio) (2.8.2)\n",
      "Requirement already satisfied: pytz>=2020.1 in /Users/emac/opt/anaconda3/lib/python3.9/site-packages (from pandas<3.0,>=1.0->gradio) (2024.1)\n",
      "Requirement already satisfied: annotated-types>=0.4.0 in /Users/emac/opt/anaconda3/lib/python3.9/site-packages (from pydantic<3,>=1->langchain) (0.6.0)\n",
      "Requirement already satisfied: pydantic-core==2.18.2 in /Users/emac/opt/anaconda3/lib/python3.9/site-packages (from pydantic<3,>=1->langchain) (2.18.2)\n",
      "Requirement already satisfied: greenlet!=0.4.17 in /Users/emac/opt/anaconda3/lib/python3.9/site-packages (from SQLAlchemy<3,>=1.4->langchain) (3.0.1)\n",
      "Requirement already satisfied: click>=8.0.0 in /Users/emac/opt/anaconda3/lib/python3.9/site-packages (from typer<1.0,>=0.12->gradio) (8.1.7)\n",
      "Requirement already satisfied: shellingham>=1.3.0 in /Users/emac/opt/anaconda3/lib/python3.9/site-packages (from typer<1.0,>=0.12->gradio) (1.5.4)\n",
      "Requirement already satisfied: rich>=10.11.0 in /Users/emac/opt/anaconda3/lib/python3.9/site-packages (from typer<1.0,>=0.12->gradio) (13.3.5)\n",
      "Requirement already satisfied: starlette<0.38.0,>=0.37.2 in /Users/emac/opt/anaconda3/lib/python3.9/site-packages (from fastapi->gradio) (0.37.2)\n",
      "Requirement already satisfied: jsonschema-specifications>=2023.03.6 in /Users/emac/opt/anaconda3/lib/python3.9/site-packages (from jsonschema>=3.0->altair<6.0,>=4.2.0->gradio) (2023.7.1)\n",
      "Requirement already satisfied: referencing>=0.28.4 in /Users/emac/opt/anaconda3/lib/python3.9/site-packages (from jsonschema>=3.0->altair<6.0,>=4.2.0->gradio) (0.30.2)\n",
      "Requirement already satisfied: rpds-py>=0.7.1 in /Users/emac/opt/anaconda3/lib/python3.9/site-packages (from jsonschema>=3.0->altair<6.0,>=4.2.0->gradio) (0.10.6)\n",
      "Requirement already satisfied: six>=1.5 in /Users/emac/opt/anaconda3/lib/python3.9/site-packages (from python-dateutil>=2.7->matplotlib~=3.0->gradio) (1.16.0)\n",
      "Requirement already satisfied: markdown-it-py<3.0.0,>=2.2.0 in /Users/emac/opt/anaconda3/lib/python3.9/site-packages (from rich>=10.11.0->typer<1.0,>=0.12->gradio) (2.2.0)\n",
      "Requirement already satisfied: pygments<3.0.0,>=2.13.0 in /Users/emac/opt/anaconda3/lib/python3.9/site-packages (from rich>=10.11.0->typer<1.0,>=0.12->gradio) (2.15.1)\n",
      "Requirement already satisfied: mypy-extensions>=0.3.0 in /Users/emac/opt/anaconda3/lib/python3.9/site-packages (from typing-inspect<1,>=0.4.0->dataclasses-json<0.7,>=0.5.7->langchain) (1.0.0)\n",
      "Requirement already satisfied: mdurl~=0.1 in /Users/emac/opt/anaconda3/lib/python3.9/site-packages (from markdown-it-py<3.0.0,>=2.2.0->rich>=10.11.0->typer<1.0,>=0.12->gradio) (0.1.0)\n"
     ]
    }
   ],
   "source": [
    "!pip install langchain langchain-community langchain-core gradio"
   ]
  },
  {
   "cell_type": "code",
   "execution_count": 2,
   "id": "d58f632e",
   "metadata": {},
   "outputs": [
    {
     "name": "stdout",
     "output_type": "stream",
     "text": [
      "# 初始化千帆\n"
     ]
    },
    {
     "name": "stderr",
     "output_type": "stream",
     "text": [
      "[WARNING] [05-05 17:06:07] base.py:624 [t:4567799296]: This key `messages` does not seem to be a parameter that the model `ERNIE-3.5-8K` will accept\n",
      "[INFO] [05-05 17:06:07] oauth.py:222 [t:4567799296]: trying to refresh access_token for ak `CekH3f***`\n",
      "[INFO] [05-05 17:06:08] oauth.py:237 [t:4567799296]: sucessfully refresh access_token\n"
     ]
    },
    {
     "name": "stdout",
     "output_type": "stream",
     "text": [
      "上海的春天一般从**3月开始**，但具体开始日期会因当年的气候情况而略有不同。根据气象学意义上的入春标准，立春之后连续5天日平均气温不低于10℃，即可判定为入春。\n",
      "\n",
      "在春天，上海的气温逐渐升高，但仍然比较湿润，多阴雨天气。此时，上海的植物开始复苏，樱花、桃花、玉兰花等花卉盛开，城市变得更加美丽。此外，春季也是上海举办各种花卉展览和活动的季节，如上海国际花卉博览会等。\n",
      "\n",
      "总之，上海的春天是一个充满生机和美丽的季节，值得大家去体验和欣赏。\n"
     ]
    }
   ],
   "source": [
    "from langchain_community.llms import QianfanLLMEndpoint\n",
    "import os\n",
    "\n",
    "print(\"# 初始化千帆\")\n",
    "os.environ[\"QIANFAN_AK\"]='######'\n",
    "os.environ[\"QIANFAN_SK\"]='######'\n",
    "\n",
    "llm = QianfanLLMEndpoint(streaming=True,\n",
    "                         model=\"ERNIE-3.5-8K\",\n",
    "                         temperature=0.1)\n",
    "\n",
    "response = llm.invoke(\"上海春天一般哪个月开始？\")\n",
    "print(response)"
   ]
  },
  {
   "cell_type": "code",
   "execution_count": 3,
   "id": "8265680b",
   "metadata": {
    "scrolled": true
   },
   "outputs": [
    {
     "name": "stdout",
     "output_type": "stream",
     "text": [
      "# 定义函数\n",
      "[{'name': 'search_ip', 'description': 'search_ip(question: str, ip: str) -> str - 首先获取输入的IP地址的位置信息，然后回答输入的问题\\n    @param question: 问题\\n    @param ip: IP地址', 'parameters': {'type': 'object', 'properties': {'question': {'type': 'string'}, 'ip': {'type': 'string'}}, 'required': ['question', 'ip']}}, {'name': 'search_phone', 'description': 'search_phone(question: str, phone: str) -> str - 首先获取输入的手机号码的归属地信息，然后回答输入的问题\\n    @param question: 问题\\n    @param phone: 手机号码', 'parameters': {'type': 'object', 'properties': {'question': {'type': 'string'}, 'phone': {'type': 'string'}}, 'required': ['question', 'phone']}}]\n",
      "# 回调方法\n",
      "# 创建交互\n",
      "Running on local URL:  http://127.0.0.1:7867\n",
      "\n",
      "To create a public link, set `share=True` in `launch()`.\n"
     ]
    },
    {
     "data": {
      "text/html": [
       "<div><iframe src=\"http://127.0.0.1:7867/\" width=\"100%\" height=\"500\" allow=\"autoplay; camera; microphone; clipboard-read; clipboard-write;\" frameborder=\"0\" allowfullscreen></iframe></div>"
      ],
      "text/plain": [
       "<IPython.core.display.HTML object>"
      ]
     },
     "metadata": {},
     "output_type": "display_data"
    },
    {
     "data": {
      "text/plain": []
     },
     "execution_count": 3,
     "metadata": {},
     "output_type": "execute_result"
    },
    {
     "name": "stdout",
     "output_type": "stream",
     "text": [
      "# 绑定函数\n",
      "content='' additional_kwargs={'finish_reason': 'function_call', 'request_id': 'as-fcd0dz2mmg', 'object': 'chat.completion', 'search_info': [], 'function_call': {'name': 'search_ip', 'arguments': '{\"question\":\"120.230.93.202属于哪个城市？\",\"ip\":\"120.230.93.202\"}'}} response_metadata={'token_usage': {'prompt_tokens': 194, 'completion_tokens': 63, 'total_tokens': 257}, 'model_name': 'ERNIE-3.5-8K', 'finish_reason': 'function_call', 'id': 'as-fcd0dz2mmg', 'object': 'chat.completion', 'created': 1714900176, 'result': '', 'is_truncated': False, 'need_clear_history': False, 'function_call': {'name': 'search_ip', 'thoughts': '用户想要知道一个特定IP地址的地理位置信息，我需要使用search_ip工具来获取这个信息。', 'arguments': '{\"question\":\"120.230.93.202属于哪个城市？\",\"ip\":\"120.230.93.202\"}'}, 'usage': {'prompt_tokens': 194, 'completion_tokens': 63, 'total_tokens': 257}} id='run-0706ab6f-a21f-4352-bbb1-1f1a0f13c426-0'\n",
      "{'name': 'search_ip', 'arguments': '{\"question\":\"120.230.93.202属于哪个城市？\",\"ip\":\"120.230.93.202\"}'}\n",
      "# 调用函数\n"
     ]
    },
    {
     "name": "stderr",
     "output_type": "stream",
     "text": [
      "[WARNING] [05-05 17:09:36] base.py:624 [t:123145751166976]: This key `messages` does not seem to be a parameter that the model `ERNIE-3.5-8K` will accept\n"
     ]
    },
    {
     "name": "stdout",
     "output_type": "stream",
     "text": [
      "{'question': '120.230.93.202属于哪个城市？', 'ip': '120.230.93.202', 'url': 'https://api.songzixian.com/api/ip?dataSource=generic_ip&ip=120.230.93.202', 'output': \"根据提供的位置信息，IP地址'120.230.93.202'属于中国的广州市。\"}\n",
      "# 绑定函数\n"
     ]
    },
    {
     "name": "stderr",
     "output_type": "stream",
     "text": [
      "[WARNING] [05-05 17:09:44] base.py:624 [t:123145751166976]: This key `messages` does not seem to be a parameter that the model `ERNIE-3.5-8K` will accept\n"
     ]
    },
    {
     "name": "stdout",
     "output_type": "stream",
     "text": [
      "content='' additional_kwargs={'finish_reason': 'function_call', 'request_id': 'as-fatmgz1g3s', 'object': 'chat.completion', 'search_info': [], 'function_call': {'name': 'search_phone', 'arguments': '{\"question\":\"13816088620属于哪个运营商？\",\"phone\":\"13816088620\"}'}} response_metadata={'token_usage': {'prompt_tokens': 191, 'completion_tokens': 55, 'total_tokens': 246}, 'model_name': 'ERNIE-3.5-8K', 'finish_reason': 'function_call', 'id': 'as-fatmgz1g3s', 'object': 'chat.completion', 'created': 1714900184, 'result': '', 'is_truncated': False, 'need_clear_history': False, 'function_call': {'name': 'search_phone', 'thoughts': \"用户想要知道一个手机号码的归属地信息，我需要调用'search_phone'工具。\", 'arguments': '{\"question\":\"13816088620属于哪个运营商？\",\"phone\":\"13816088620\"}'}, 'usage': {'prompt_tokens': 191, 'completion_tokens': 55, 'total_tokens': 246}} id='run-5034ccc8-06fa-4743-9508-a3d712c97bc0-0'\n",
      "{'name': 'search_phone', 'arguments': '{\"question\":\"13816088620属于哪个运营商？\",\"phone\":\"13816088620\"}'}\n",
      "# 调用函数\n",
      "{'question': '13816088620属于哪个运营商？', 'phone': '13816088620', 'url': 'https://api.songzixian.com/api/phone-location?dataSource=phone_number_location&phoneNumber=13816088620', 'output': \"根据提供的手机号码'13816088620'的归属地信息，该号码属于中国移动。\"}\n"
     ]
    }
   ],
   "source": [
    "from langchain import PromptTemplate, LLMChain\n",
    "from langchain.chains import LLMRequestsChain\n",
    "from langchain.schema import HumanMessage\n",
    "from langchain_community.chat_models import QianfanChatEndpoint\n",
    "from langchain_core.tools import tool\n",
    "from langchain_core.utils.function_calling import convert_to_openai_tool\n",
    "import gradio as gr\n",
    "import json\n",
    "\n",
    "# 此处不能设定streaming=True，否则无法激活函数回调\n",
    "chat = QianfanChatEndpoint(model=\"ERNIE-3.5-8K\",\n",
    "                          temperature=0.1)\n",
    "\n",
    "print(\"# 定义函数\")\n",
    "@tool\n",
    "def search_ip(question:str, ip:str) -> str:\n",
    "    \"\"\"\n",
    "    首先获取输入的IP地址的位置信息，然后回答输入的问题\n",
    "    @param question: 问题\n",
    "    @param ip: IP地址\n",
    "    \"\"\"\n",
    "    prompt_template = \"\"\"以下是IP地址'{ip}'的位置信息：\n",
    "    >>> {requests_result} <<<\n",
    "    根据以上位置信息，回答以下这个问题：\n",
    "    >>> {question} <<<\"\"\"\n",
    "    prompt = PromptTemplate(\n",
    "        input_variables=[\"question\", \"ip\", \"requests_result\"],\n",
    "        template=prompt_template\n",
    "    )\n",
    "    chain = LLMRequestsChain(llm_chain = LLMChain(llm=llm, prompt=prompt))\n",
    "    inputs = {\n",
    "        \"question\": question,\n",
    "        \"ip\": ip,\n",
    "        \"url\": \"https://api.songzixian.com/api/ip?dataSource=generic_ip&ip=\" + ip\n",
    "    }\n",
    "    return chain.invoke(inputs)\n",
    "\n",
    "@tool\n",
    "def search_phone(question:str, phone:str) -> str:\n",
    "    \"\"\"\n",
    "    首先获取输入的手机号码的归属地信息，然后回答输入的问题\n",
    "    @param question: 问题\n",
    "    @param phone: 手机号码\n",
    "    \"\"\"\n",
    "    prompt_template = \"\"\"以下是手机号码'{phone}'的归属地信息：\n",
    "    >>> {requests_result} <<<\n",
    "    根据以上归属地信息，回答以下这个问题：\n",
    "    >>> {question} <<<\"\"\"\n",
    "    prompt = PromptTemplate(\n",
    "        input_variables=[\"question\", \"phone\", \"requests_result\"],\n",
    "        template=prompt_template\n",
    "    )\n",
    "    chain = LLMRequestsChain(llm_chain = LLMChain(llm=llm, prompt=prompt))\n",
    "    inputs = {\n",
    "        \"question\": question,\n",
    "        \"phone\": phone,\n",
    "        \"url\": \"https://api.songzixian.com/api/phone-location?dataSource=phone_number_location&phoneNumber=\" + phone\n",
    "    }\n",
    "    return chain.invoke(inputs)\n",
    "\n",
    "functions=[convert_to_openai_tool(search_ip)['function'],convert_to_openai_tool(search_phone)['function']]\n",
    "print(functions)\n",
    "\n",
    "print(\"# 回调方法\")\n",
    "def get_response(message):\n",
    "    print(\"# 绑定函数\")\n",
    "    result = chat.invoke([HumanMessage(content=message)],\n",
    "                               functions=functions)\n",
    "    print(result)\n",
    "\n",
    "    function_call_info = result.additional_kwargs.get(\"function_call\", None)\n",
    "    print(function_call_info)\n",
    "    \n",
    "    if not function_call_info:\n",
    "        print(\"# 直接返回\")\n",
    "        return result.content\n",
    "\n",
    "    print(\"# 调用函数\")\n",
    "    function_name = function_call_info[\"name\"]\n",
    "    function_args = json.loads(function_call_info[\"arguments\"])\n",
    "    function_result = eval(function_name)(function_args)\n",
    "    print(function_result)\n",
    "    return function_result[\"output\"]\n",
    "\n",
    "def submit(message, chat_history):\n",
    "    bot_message = get_response(message)\n",
    "    # 保存历史对话记录，用于显示\n",
    "    chat_history.append((message, bot_message))\n",
    "    return \"\", chat_history\n",
    "\n",
    "print(\"# 创建交互\")\n",
    "with gr.Blocks() as demo:\n",
    "    chatbot = gr.Chatbot(height=240) # 对话框\n",
    "    msg = gr.Textbox(label=\"Prompt\") # 输入框\n",
    "    submitBtn = gr.Button(\"Submit\") # 提交按钮\n",
    "    clearBtn = gr.ClearButton([msg, chatbot]) # 清除按钮\n",
    "    # 提交\n",
    "    msg.submit(submit, inputs=[msg, chatbot], outputs=[msg, chatbot]) \n",
    "    submitBtn.click(submit, inputs=[msg, chatbot], outputs=[msg, chatbot])\n",
    "    \n",
    "gr.close_all()\n",
    "demo.launch()\n",
    "\n",
    "# 示例问题1：120.230.93.202属于哪个城市？\n",
    "# 示例问题2：13816088620属于哪个运营商？"
   ]
  },
  {
   "cell_type": "code",
   "execution_count": null,
   "id": "cd85d425",
   "metadata": {},
   "outputs": [],
   "source": []
  }
 ],
 "metadata": {
  "kernelspec": {
   "display_name": "Python 3 (ipykernel)",
   "language": "python",
   "name": "python3"
  },
  "language_info": {
   "codemirror_mode": {
    "name": "ipython",
    "version": 3
   },
   "file_extension": ".py",
   "mimetype": "text/x-python",
   "name": "python",
   "nbconvert_exporter": "python",
   "pygments_lexer": "ipython3",
   "version": "3.9.19"
  }
 },
 "nbformat": 4,
 "nbformat_minor": 5
}
